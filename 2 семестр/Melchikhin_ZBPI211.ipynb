{
  "cells": [
    {
      "cell_type": "markdown",
      "metadata": {
        "id": "xGMQjJ_ruTc1"
      },
      "source": [
        "#Контрольная работа\n"
      ]
    },
    {
      "cell_type": "markdown",
      "metadata": {
        "id": "u7jHKQmhOqTg"
      },
      "source": [
        "# 1.\n",
        "\n",
        "Напишите **рекурсивную** функцию ```fact```, которая вычисляет факториал заданного числа ```x```. \n"
      ]
    },
    {
      "cell_type": "code",
      "execution_count": 1,
      "metadata": {
        "colab": {
          "base_uri": "https://localhost:8080/"
        },
        "id": "VlRnn8x4JPng",
        "outputId": "c4fdf2de-c1a1-4ff3-f269-02832e6a0ead"
      },
      "outputs": [],
      "source": [
        "def rec_fact(n):\n",
        "    if n == 0:\n",
        "        return 1\n",
        "    elif n < 0:\n",
        "        return None\n",
        "    else:\n",
        "        return n * rec_fact(n - 1)\n"
      ]
    },
    {
      "cell_type": "code",
      "execution_count": 2,
      "metadata": {},
      "outputs": [
        {
          "name": "stderr",
          "output_type": "stream",
          "text": [
            "test_negative_num (__main__.RecFactorialTestCase) ... ok\n",
            "test_null (__main__.RecFactorialTestCase) ... ok\n",
            "test_positive_num (__main__.RecFactorialTestCase) ... ok\n",
            "\n",
            "----------------------------------------------------------------------\n",
            "Ran 3 tests in 0.005s\n",
            "\n",
            "OK\n"
          ]
        },
        {
          "data": {
            "text/plain": [
              "<unittest.runner.TextTestResult run=3 errors=0 failures=0>"
            ]
          },
          "execution_count": 2,
          "metadata": {},
          "output_type": "execute_result"
        }
      ],
      "source": [
        "import unittest\n",
        "from math import factorial\n",
        "\n",
        "\n",
        "class RecFactorialTestCase(unittest.TestCase):\n",
        "\n",
        "    def test_positive_num(self):\n",
        "        res = rec_fact(7)\n",
        "        self.assertEqual(res, factorial(7))\n",
        "\n",
        "    def test_null(self):\n",
        "        res = rec_fact(0)\n",
        "        self.assertEqual(res, factorial(0))\n",
        "\n",
        "    def test_negative_num(self):\n",
        "        res = rec_fact(-5)\n",
        "        self.assertIsNone(res)\n",
        "    \n",
        "suite = unittest.TestLoader().loadTestsFromTestCase(RecFactorialTestCase)\n",
        "unittest.TextTestRunner(verbosity=2).run(suite)"
      ]
    },
    {
      "cell_type": "markdown",
      "metadata": {
        "id": "7KqKtOl0_dP0"
      },
      "source": [
        "# 2\n",
        " Создайте функцию ```filter_even```, которая принимает на вход список целых чисел,  и фильтруя, возвращает список, содержащий только четные числа. Используйте ```filter``` для фильтрации и  ```lambda```."
      ]
    },
    {
      "cell_type": "code",
      "execution_count": 188,
      "metadata": {},
      "outputs": [],
      "source": [
        "def filter_even(li):\n",
        "    res_li = []\n",
        "    for el in li:\n",
        "        if isinstance(el, int):\n",
        "            res_li.append(el)\n",
        "        else:\n",
        "            return -1   \n",
        "    return list(filter(lambda x: x%2 == 0, res_li))"
      ]
    },
    {
      "cell_type": "code",
      "execution_count": 189,
      "metadata": {},
      "outputs": [
        {
          "name": "stderr",
          "output_type": "stream",
          "text": [
            "test_all_odd (__main__.FilterEvenTestCase) ... ok\n",
            "test_any_num (__main__.FilterEvenTestCase) ... ok\n",
            "test_is_integer (__main__.FilterEvenTestCase) ... ok\n",
            "\n",
            "----------------------------------------------------------------------\n",
            "Ran 3 tests in 0.006s\n",
            "\n",
            "OK\n"
          ]
        },
        {
          "data": {
            "text/plain": [
              "<unittest.runner.TextTestResult run=3 errors=0 failures=0>"
            ]
          },
          "execution_count": 189,
          "metadata": {},
          "output_type": "execute_result"
        }
      ],
      "source": [
        "import unittest \n",
        "\n",
        "\n",
        "class FilterEvenTestCase(unittest.TestCase):\n",
        "    \n",
        "    def test_any_num(self):\n",
        "        test_list = [0, 1, -3, 222, 5, 7, -9, 110, 13, -57, 49, 1024]\n",
        "        res = filter_even(li=test_list)\n",
        "        self.assertEqual(res, [0, 222, 110, 1024])\n",
        "    \n",
        "    def test_all_odd(self):\n",
        "        test_list = [1, 5, 7, -9, 121, -23, 135]\n",
        "        res = filter_even(li=test_list)\n",
        "        self.assertEqual(res, [])\n",
        "\n",
        "    def test_is_integer(self):\n",
        "        test_list = [2, 64, 36, 8, 190, '10']\n",
        "        res = filter_even(li=test_list)\n",
        "        self.assertEqual(res, -1)\n",
        "\n",
        "suite = unittest.TestLoader().loadTestsFromTestCase(FilterEvenTestCase)\n",
        "unittest.TextTestRunner(verbosity=2).run(suite)\n"
      ]
    },
    {
      "cell_type": "markdown",
      "metadata": {
        "id": "gYXn-ZOcBbiG"
      },
      "source": [
        "# 3\n",
        "Напишите функцию ```square``` ,которая принимает на вход список целых чисел и возвращает список с возведенными в квадрат элементами. Используйте ```map```."
      ]
    },
    {
      "cell_type": "code",
      "execution_count": 190,
      "metadata": {
        "colab": {
          "base_uri": "https://localhost:8080/"
        },
        "id": "HEzHOZUdJlxU",
        "outputId": "15e5c833-0196-4ffb-8914-eb355420db74"
      },
      "outputs": [],
      "source": [
        "def square(l):\n",
        "    res_li = list()\n",
        "    for i in l:\n",
        "        if isinstance(i, int):\n",
        "            res_li.append(i)\n",
        "        else:\n",
        "            return -1\n",
        "    return list(map(lambda x: x**2, res_li))\n"
      ]
    },
    {
      "cell_type": "code",
      "execution_count": 191,
      "metadata": {},
      "outputs": [
        {
          "name": "stderr",
          "output_type": "stream",
          "text": [
            "test_any_num (__main__.SquareTestCase) ... ok\n",
            "test_is_int (__main__.SquareTestCase) ... ok\n",
            "\n",
            "----------------------------------------------------------------------\n",
            "Ran 2 tests in 0.004s\n",
            "\n",
            "OK\n"
          ]
        },
        {
          "data": {
            "text/plain": [
              "<unittest.runner.TextTestResult run=2 errors=0 failures=0>"
            ]
          },
          "execution_count": 191,
          "metadata": {},
          "output_type": "execute_result"
        }
      ],
      "source": [
        "import unittest\n",
        "\n",
        "\n",
        "class SquareTestCase(unittest.TestCase):\n",
        "    def test_any_num(self):\n",
        "        test_li = [-2, 3, -4, 5, -6, 7, -8]\n",
        "        li4check = [4, 9, 16, 25, 36, 49, 64]\n",
        "        res = square(l=test_li)\n",
        "        self.assertEqual(res, li4check)\n",
        "    \n",
        "    def test_is_int(self):\n",
        "        test_li = ['a', 10, 12, 15, 8, 9, \"0\", float(2), [2, 4], 2.8]\n",
        "        res = square(l=test_li)\n",
        "        self.assertEqual(res, -1)\n",
        "\n",
        "\n",
        "suite = unittest.TestLoader().loadTestsFromTestCase(SquareTestCase)\n",
        "unittest.TextTestRunner(verbosity=2).run(suite)"
      ]
    },
    {
      "cell_type": "markdown",
      "metadata": {
        "id": "IJ6rXeTNFfFv"
      },
      "source": [
        "# 4\n",
        "Напишите функцию бинарного поиска ```bin_search```, которая принимает на вход отсортированный список и элемент. Функция должна возвращать индекс искомого элемента в списке. \n",
        "\n",
        "Ввод: \n",
        "```\n",
        "[2,5,7,9,11,17,222] 11\n",
        "```\n",
        "Вывод: \n",
        " ```\n",
        " 4\n",
        " ```\n",
        "\n",
        "Ввод:\n",
        "```\n",
        " [2,5,7,9,11,17,222] 12\n",
        "```\n",
        "Вывод:\n",
        "```\n",
        "  -1\n",
        "```"
      ]
    },
    {
      "cell_type": "code",
      "execution_count": 192,
      "metadata": {
        "colab": {
          "base_uri": "https://localhost:8080/"
        },
        "id": "vb09yidrI-8D",
        "outputId": "3ffa178b-e209-4d18-89bc-12d551115ff3"
      },
      "outputs": [],
      "source": [
        "def bin_search(li, el):\n",
        "        li.sort()\n",
        "        low = 0 \n",
        "        mid = 0\n",
        "        high = len(li) - 1\n",
        "        \n",
        "        while low < high:\n",
        "            mid = (low+high)//2 \n",
        "            midval = li[mid] \n",
        "\n",
        "            if midval < el: \n",
        "                low = mid+1\n",
        "            elif midval > el: \n",
        "                high = mid\n",
        "            else:\n",
        "                return mid \n",
        "        return -1"
      ]
    },
    {
      "cell_type": "code",
      "execution_count": 193,
      "metadata": {},
      "outputs": [
        {
          "name": "stderr",
          "output_type": "stream",
          "text": [
            "test_el_in_li (__main__.BinarySearchTestCase) ... ok\n",
            "test_el_not_in_li (__main__.BinarySearchTestCase) ... ok\n",
            "\n",
            "----------------------------------------------------------------------\n",
            "Ran 2 tests in 0.004s\n",
            "\n",
            "OK\n"
          ]
        },
        {
          "data": {
            "text/plain": [
              "<unittest.runner.TextTestResult run=2 errors=0 failures=0>"
            ]
          },
          "execution_count": 193,
          "metadata": {},
          "output_type": "execute_result"
        }
      ],
      "source": [
        "import unittest\n",
        "\n",
        "\n",
        "class BinarySearchTestCase(unittest.TestCase):\n",
        "\n",
        "    def test_el_in_li(self):\n",
        "        test_list = [2, 5, 7, 9, 11, 17, 222]\n",
        "        element = 11\n",
        "        el_index = test_list.index(element)\n",
        "        res = bin_search(li=test_list, el=element)\n",
        "        self.assertEqual(res, el_index) \n",
        "\n",
        "    def test_el_not_in_li(self):\n",
        "        test_list = [2, 5, 7, 9, 11, 17, 222]\n",
        "        element = 12\n",
        "        res = bin_search(li=test_list, el=element)\n",
        "        self.assertEqual(res, -1)\n",
        "\n",
        "suite = unittest.TestLoader().loadTestsFromTestCase(BinarySearchTestCase)\n",
        "unittest.TextTestRunner(verbosity=2).run(suite)"
      ]
    },
    {
      "cell_type": "markdown",
      "metadata": {
        "id": "Uhry6tBPMl9s"
      },
      "source": [
        "# 5\n",
        "Напишите функцию ```is_palindrome``` определяющую,является ли строка палиндромом.\n",
        "Палиндромами являются текстовые строки, которые одинаково читаются слева направо и справа налево. В строках не учитываются знаки препинания, пробельные символы и цифры; регистр не имеет значения. \n",
        "\n",
        "На вход подается строка ```string```.\n",
        "\n",
        "Выведите YES, если строка является палиндромом и NO иначе.\n",
        "\n",
        "Запрещается использовать reverse списка - ```list[::-1]``` и функцию ```reversed```.\n",
        "Чтобы учесть это ограничение, эту задачу рекомендуется решать используя технику решения задач \"два указателя\". Один указатель читает только символы слева направо, а второй - справа налево.\n",
        "\n",
        "Примеры:\n",
        "\n",
        "Ввод \n",
        "```\n",
        "Madam, I'm Adam\n",
        "``` \n",
        "Вывод\n",
        "```\n",
        "YES\n",
        "```\n",
        "Ввод\n",
        "```\n",
        "А роза упала на лапу Азора\n",
        "``` \n",
        "Вывод  \n",
        "```\n",
        "YES\n",
        "```"
      ]
    },
    {
      "cell_type": "code",
      "execution_count": 194,
      "metadata": {},
      "outputs": [],
      "source": [
        "import re\n",
        "\n",
        "def is_palindrome(string):\n",
        "    res = re.compile('[^a-zA-Zа-яА-Я]').sub('', string.lower())\n",
        "\n",
        "    for i in range(len(res)):\n",
        "        if res[i] != res[-i-1]:\n",
        "            return \"NO\"\n",
        "\n",
        "    return \"YES\"\n",
        "    \n"
      ]
    },
    {
      "cell_type": "code",
      "execution_count": 195,
      "metadata": {},
      "outputs": [
        {
          "name": "stderr",
          "output_type": "stream",
          "text": [
            "test_is_palindrome (__main__.IsPalindromeTestCase) ... ok\n",
            "test_not_palindrome (__main__.IsPalindromeTestCase) ... ok\n",
            "\n",
            "----------------------------------------------------------------------\n",
            "Ran 2 tests in 0.003s\n",
            "\n",
            "OK\n"
          ]
        },
        {
          "data": {
            "text/plain": [
              "<unittest.runner.TextTestResult run=2 errors=0 failures=0>"
            ]
          },
          "execution_count": 195,
          "metadata": {},
          "output_type": "execute_result"
        }
      ],
      "source": [
        "import unittest\n",
        "\n",
        "class IsPalindromeTestCase(unittest.TestCase):\n",
        "\n",
        "    def test_is_palindrome(self):\n",
        "        check_list = [\n",
        "            \"Madam, I'm Adam\",\n",
        "            \"А роза упала на лапу Азора\",\n",
        "            \"Шалаш\"\n",
        "        ]\n",
        "        for item in check_list:\n",
        "            res = is_palindrome(item)\n",
        "            self.assertEqual(res, \"YES\")\n",
        "\n",
        "    def test_not_palindrome(self):\n",
        "        check_str = \"hbdsvsn dkwjncnsd iwerufhwdw\"\n",
        "        res = is_palindrome(check_str)\n",
        "        self.assertEqual(res, \"NO\")\n",
        "\n",
        "suite = unittest.TestLoader().loadTestsFromTestCase(IsPalindromeTestCase)\n",
        "unittest.TextTestRunner(verbosity=2).run(suite)\n"
      ]
    },
    {
      "cell_type": "markdown",
      "metadata": {
        "id": "MkFFSL_fQ__r"
      },
      "source": [
        "# 6\n",
        "Написать функцию ```calculate```, которая принимает на вход текстовый файл содержащий строки следующего формата:\n",
        "\n",
        "Формат файла:\n",
        "    ```арифметическая операция```    ```целое число #1```    ```целое число #2```\\\n",
        "Разделитель - 4 пробела\n",
        "\n",
        "Функция должна вернуть 1 строку.\n",
        "Строка содержит набор из чисел, разделенных запятой. \n",
        "После последнего числа запятая не ставится.\n",
        "Каждое число - результат операции: \n",
        "    ```\"результирующее целое число\"``` = ```\"целое число #1\"``` применить ```\"арифметическая операция\"``` ```\"целое число #2\"```\n",
        "\n",
        "**Пример входного файла:**\n",
        "\n",
        "`+    5    4`\\\n",
        "`-    -10449    -7623`\\\n",
        "`**    2    10`\n",
        "\n",
        "**Пример выходной строки (для примера входного файла выше):**\n",
        "\n",
        "`9,-2826,1024`\n",
        "\n",
        "**Допустимые операции:**\n",
        "\n",
        "`+ (сложение)`\\\n",
        "`- (вычитание)`\\\n",
        "`* (умножение)`\\\n",
        "`// (целочисленное деление) (для этой операции подаются только положительные числа)`\\\n",
        "`% (остаток от деления) (для этой операции подаются только положительные числа)`'\\\n",
        "`** (возведение в степень) (для этой операции подаются только положительные числа)`\n",
        "\n",
        "Входные числа - только целые.\\\n",
        "Выходные числа - только целые.\n",
        "\n",
        "[Входной файл для самопроверки.](https://drive.google.com/file/d/1OcqaMTseYffO2JAF_thBJDJ-aqFq9Vxc/view?usp=sharing)\n",
        "\n",
        "[Выходная строка для самопроверки содержится в файле.](https://drive.google.com/file/d/1IkCn8C6ULuEIngSSpkvI-0cIhDUiIEk9/view?usp=sharing)\n",
        "\n",
        "\n",
        "\n",
        "\n",
        "\n",
        "\n"
      ]
    },
    {
      "cell_type": "code",
      "execution_count": null,
      "metadata": {},
      "outputs": [],
      "source": [
        "\"\"\"Это была первая реализация, но решил, что поэкономнее \n",
        "    для памяти будет все же читать файл построчно, \n",
        "    а не всем массивом. В ячейке ниже итоговый вариант.\"\"\"\n",
        "\n",
        "# def calculate(path2file):\n",
        "#     input_list = []\n",
        "#     result_list = []\n",
        "\n",
        "#     with open(path2file, 'r') as f:\n",
        "#         input_file = f.readlines()\n",
        "\n",
        "#     for el in input_file:\n",
        "#         n_list = el.split()\n",
        "#         input_list.append(n_list)\n",
        "\n",
        "#     for parts in input_list:\n",
        "#         if parts[0] == '+':\n",
        "#             res = int(parts[1]) + int(parts[2])\n",
        "#             result_list.append(res)\n",
        "#         elif parts[0] == '-':\n",
        "#             res = int(parts[1]) - int(parts[2])\n",
        "#             result_list.append(res)\n",
        "#         elif parts[0] == '*':\n",
        "#             res = int(parts[1]) * int(parts[2])\n",
        "#             result_list.append(res)\n",
        "#         elif parts[0] == '**':\n",
        "#             res = int(parts[1]) ** int(parts[2])\n",
        "#             result_list.append(res)\n",
        "#         elif parts[0] == '//':\n",
        "#             res = int(parts[1]) // int(parts[2])\n",
        "#             result_list.append(res)\n",
        "#         elif parts[0] == '%':\n",
        "#             res = int(parts[1]) % int(parts[2])\n",
        "#             result_list.append(res)\n",
        "\n",
        "#     list2str = ','.join(list(map(lambda x: str(x), result_list)))\n",
        "#     final_result = []\n",
        "#     final_result.append(list2str)\n",
        "\n",
        "#     return final_result\n",
        "\n"
      ]
    },
    {
      "cell_type": "code",
      "execution_count": 4,
      "metadata": {},
      "outputs": [],
      "source": [
        "def calculate(path2file):\n",
        "    \n",
        "    result_list = []\n",
        "    f = open(path2file, 'r')\n",
        "    \n",
        "    while True:\n",
        "        input_str = f.readline()\n",
        "        if not input_str:\n",
        "            f.close()\n",
        "            break\n",
        "        else: \n",
        "            prev_list = list(map(lambda x: x.replace('\\n', ''), input_str))\n",
        "            fin_list = ''.join(prev_list).split()\n",
        "            \n",
        "            if fin_list[0] == '+':\n",
        "                res = int(fin_list[1]) + int(fin_list[2])\n",
        "                result_list.append(res)\n",
        "            elif fin_list[0] == '-':\n",
        "                res = int(fin_list[1]) - int(fin_list[2])\n",
        "                result_list.append(res)\n",
        "            elif fin_list[0] == '*':\n",
        "                res = int(fin_list[1]) * int(fin_list[2])\n",
        "                result_list.append(res)\n",
        "            elif fin_list[0] == '**':\n",
        "                res = int(fin_list[1]) ** int(fin_list[2])\n",
        "                result_list.append(res)\n",
        "            elif fin_list[0] == '//':\n",
        "                res = int(fin_list[1]) // int(fin_list[2])\n",
        "                result_list.append(res)\n",
        "            elif fin_list[0] == '%':\n",
        "                res = int(fin_list[1]) % int(fin_list[2])\n",
        "                result_list.append(res)\n",
        "    \n",
        "    return  ','.join(list(map(lambda x: str(x), result_list)))\n",
        "\n",
        "   "
      ]
    },
    {
      "cell_type": "code",
      "execution_count": 5,
      "metadata": {},
      "outputs": [
        {
          "name": "stderr",
          "output_type": "stream",
          "text": [
            "test_calculate (__main__.CalculateTestCase) ... ok\n",
            "\n",
            "----------------------------------------------------------------------\n",
            "Ran 1 test in 0.015s\n",
            "\n",
            "OK\n"
          ]
        },
        {
          "data": {
            "text/plain": [
              "<unittest.runner.TextTestResult run=1 errors=0 failures=0>"
            ]
          },
          "execution_count": 5,
          "metadata": {},
          "output_type": "execute_result"
        }
      ],
      "source": [
        "import unittest\n",
        "\n",
        "\n",
        "class CalculateTestCase(unittest.TestCase):\n",
        "\n",
        "    def test_calculate(self):\n",
        "        test_inp_file = 'test_input_file_1.txt'\n",
        "        test_outp_file = 'test_output_file_1.txt'\n",
        "        \n",
        "        calc_result = calculate(path2file=test_inp_file)\n",
        "        \n",
        "        with open(test_outp_file, \"r\") as f:\n",
        "            res_file = f.readlines()\n",
        "        self.assertIn(calc_result, res_file)\n",
        "            \n",
        "suite = unittest.TestLoader().loadTestsFromTestCase(CalculateTestCase)\n",
        "unittest.TextTestRunner(verbosity=2).run(suite)"
      ]
    },
    {
      "cell_type": "markdown",
      "metadata": {
        "id": "kYzWG0NAUKdc"
      },
      "source": [
        "# 7\n",
        "Написать функцию ```substring_slice```,которой на вход поступают два текстовых файла.\n",
        "\n",
        "- Первый файл содержит строки текста.   \n",
        " \n",
        "- Второй файл содержит строки из двух целых неотрицательных чисел.\n",
        "Первое число в строке всегда меньше или равно второму.\n",
        "Числа всегда меньше длины соответствующей строки первого файла.\n",
        "Соответствующей - это значит 1-ая строка из 1-го файла соответствует 1-ой строке из 2-го файла, а 123-я строка из 1-го файла соответствует 123-ей строке из 2-го файла.\n",
        "\n",
        "- Функция должна вернуть строку, состоящую из подстрок 1-го входного файла.\n",
        "Подстроки разделены пробелами.\n",
        "Какие брать подстроки - написано во втором файле.\n",
        "В конце файла пробела нет.\n",
        "\n",
        "**Например**\n",
        "120 строка в 1-ом файле: `JBOljrfkrfjgikenfjerkrkvkfKUGlknc`\n",
        "120 строка во 2-ом файле: `13 27`\n",
        "Это значит 120 подстрока в результирующем файле это символы с 13 по 27, включая 13-ый и 27-ой символы.\n",
        "Не забывайте, что нумерация символов в строке с 0.\n",
        "Пример требуемой подстроки: `kenfjerkrkvkfKU`\n",
        "- **Пример 1-го входного файла:**\n",
        "  ```\n",
        "QxBpXEeyDWHiuTttWjhFMGTlrCMqpSvrNOQoxUbyiZombbLaYqBHvydPJlvdspwwpgeLNlHMVYrZvPsQkcQgPpierYSahialdXlde\n",
        "rNsZEKdYYlKKRrYGNWEXTYXOpQqrdGANRfoyeVvRwLVhZDfzKhFQkuSYODIXFLYafnXbxuwqZKQKjSiFZAtSponvmulcjicIDhNaQ\n",
        "TttSFLqbNkHvOeHSKTTGEEGxwtXImLeCmcKjvsIkIIvvlsUSazNuEsdDYlOljweSubVJxHbSJkBpByFiUCFctgrLKhlYgEWWuDYqx\n",
        "```\n",
        "\n",
        "- **Пример 2-го входного файла:**\n",
        "```\n",
        "30 84\n",
        "5 79\n",
        "70 70\n",
        "```\n",
        "- **Пример выходной строки:**\n",
        "```\n",
        "vrNOQoxUbyiZombbLaYqBHvydPJlvdspwwpgeLNlHMVYrZvPsQkcQgP KdYYlKKRrYGNWEXTYXOpQqrdGANRfoyeVvRwLVhZDfzKhFQkuSYODIXFLYafnXbxuwqZKQKjSiF b\n",
        "\n",
        "```"
      ]
    },
    {
      "cell_type": "markdown",
      "metadata": {
        "id": "x_5FK_dPw6tv"
      },
      "source": [
        "\n",
        "[Пример 1-го входного файла для самопроверки.](https://drive.google.com/file/d/1XlnnBunKfNA2c4so3VKH1kXKvFjOLDAX/view?usp=sharing)\n",
        "\n",
        "[Пример 2-го входного файла для самопроверки.](https://drive.google.com/file/d/1_gIyNhoSptvlvfA8UOlY60rXDva1fW2G/view?usp=sharing)\n",
        "\n",
        "[Пример выходной строки для двух файлов выше содержится в этом файле.](https://drive.google.com/file/d/11Lsq1DV8iuMsZ_LPuTj50w5Htq1-95Ys/view?usp=sharing)"
      ]
    },
    {
      "cell_type": "code",
      "execution_count": 199,
      "metadata": {},
      "outputs": [],
      "source": [
        "def substring_slice(path2file_1,path2file_2):\n",
        "    try:\n",
        "        with open(path2file_1, 'r') as file:\n",
        "            data_1 = file.readlines()\n",
        "      \n",
        "        with open(path2file_2, 'r') as file:\n",
        "            data_2 = file.readlines()\n",
        "\n",
        "    except FileNotFoundError as error_msg:\n",
        "        print(f\"Ошибка: {error_msg}. Файл не найден!\")\n",
        "        return -1\n",
        "\n",
        "    else:\n",
        "        data_1 = list(map(lambda x: x.replace('\\n', ''), data_1))\n",
        "        data_2 = list(map(lambda x: x.replace('\\n', ''), data_2))\n",
        "        res_list = list()\n",
        "        for i in range(len(data_1)):\n",
        "            num_1 = int(data_2[i].split(' ')[0])\n",
        "            num_2 = int(data_2[i].split(' ')[1])\n",
        "            res_list.append(data_1[i][num_1:num_2+1])\n",
        "        return ' '.join(res_list)\n"
      ]
    },
    {
      "cell_type": "code",
      "execution_count": 200,
      "metadata": {},
      "outputs": [
        {
          "name": "stderr",
          "output_type": "stream",
          "text": [
            "test_file_not_found (__main__.SubstringSliceTestCase) ... ok\n",
            "test_substring_slice (__main__.SubstringSliceTestCase) ... ok\n",
            "\n",
            "----------------------------------------------------------------------\n",
            "Ran 2 tests in 0.014s\n",
            "\n",
            "OK\n"
          ]
        },
        {
          "data": {
            "text/plain": [
              "<unittest.runner.TextTestResult run=2 errors=0 failures=0>"
            ]
          },
          "execution_count": 200,
          "metadata": {},
          "output_type": "execute_result"
        }
      ],
      "source": [
        "import unittest \n",
        "\n",
        "\n",
        "class SubstringSliceTestCase(unittest.TestCase):\n",
        "    \n",
        "    def test_substring_slice(self):\n",
        "        files = { \n",
        "            'input_file_1': \"test_import_file_2_1.txt\", \n",
        "            'input_file_2': \"test_import_file_2_2.txt\", \n",
        "            \"output_file\": 'test_output_file_2.txt'\n",
        "        }\n",
        "        func_result = substring_slice(\n",
        "            path2file_1=files['input_file_1'], \n",
        "            path2file_2=files['input_file_2']\n",
        "        )\n",
        "        with open(files['output_file'], 'r') as f:\n",
        "            test_outp_str = f.read()\n",
        "        self.assertEqual(func_result, test_outp_str)\n",
        "\n",
        "    def test_file_not_found(self):\n",
        "        input\n",
        "\n",
        "suite = unittest.TestLoader().loadTestsFromTestCase(SubstringSliceTestCase)\n",
        "unittest.TextTestRunner(verbosity=2).run(suite)"
      ]
    },
    {
      "cell_type": "markdown",
      "metadata": {
        "id": "uSMlKPcMqh69"
      },
      "source": [
        "# 8\n",
        "\n",
        "Написать функцию ```decode_ch```,на вход которой поступает строка.В ней хранится набор химических символов (He, O, H, Mg, Fe, ...). Без пробелов.\n",
        "Нужно расшифровать химические символы в название химических элементов.Функция должна вернуть строку - расшифровку\n",
        "\n",
        "Для удобства, прилагается [json файл](https://drive.google.com/file/d/1Uugf4zLRjBx-73RfelroOrf1JlTtpLfi/view?usp=sharing), который ставит в соответствие химическому символу его химическое название.\n",
        "\n",
        "Как прочитать этот файл в словарь python (dict):\n",
        "```\n",
        "periodic_table = json.load(open('periodic_table.json'))\n",
        "```\n",
        "- **Пример входной строки:**\n",
        "```\n",
        "NOTiFICaTiON\n",
        "```\n",
        "-**Пример выходной строки:**\n",
        "```\n",
        "АзотКислородТитанФторЙодКальцийТитанКислородАзот\n",
        "```\n",
        "\n",
        "Обратите внимание, что, например, \"Bi\" - это \"Висмут\", а не \"БорЙод\".\n",
        "То есть регистр (заглавные или прописные) букв имеет значение.\n",
        "\n"
      ]
    },
    {
      "cell_type": "code",
      "execution_count": 201,
      "metadata": {},
      "outputs": [],
      "source": [
        "import re\n",
        "import json\n",
        "\n",
        "\n",
        "def decode_ch(str_of_elem: str):\n",
        "    chemical_element = re.sub(r'([A-Z])', r' \\1', str_of_elem).split()\n",
        "\n",
        "    try:       \n",
        "        with open('periodic_table.json','r', encoding=\"utf-8\") as f:\n",
        "            periodic_table = json.load(f)\n",
        "        decoded_str = ''.join(list(map(lambda x: periodic_table[x], chemical_element)))\n",
        "    except KeyError as ke:\n",
        "        print(f\"Ошибка: KeyError! Элемента {ke} нет в таблице.\")\n",
        "        return -1\n",
        "    except FileNotFoundError as error_msg:\n",
        "        print(f\"Ошибка: {error_msg}. Файл не найден!\")\n",
        "        return -1\n",
        "    else:\n",
        "        return decoded_str\n"
      ]
    },
    {
      "cell_type": "code",
      "execution_count": 202,
      "metadata": {},
      "outputs": [
        {
          "name": "stderr",
          "output_type": "stream",
          "text": [
            "test_can_not_decode (__main__.DecodeChTestCase) ... ok\n",
            "test_decode_ch (__main__.DecodeChTestCase) ... ok\n",
            "\n",
            "----------------------------------------------------------------------\n",
            "Ran 2 tests in 0.006s\n",
            "\n",
            "OK\n"
          ]
        },
        {
          "name": "stdout",
          "output_type": "stream",
          "text": [
            "Ошибка: KeyError! Элемента 'Bo' нет в таблице.\n",
            "Ошибка: KeyError! Элемента 'A' нет в таблице.\n"
          ]
        },
        {
          "data": {
            "text/plain": [
              "<unittest.runner.TextTestResult run=2 errors=0 failures=0>"
            ]
          },
          "execution_count": 202,
          "metadata": {},
          "output_type": "execute_result"
        }
      ],
      "source": [
        "import unittest\n",
        "\n",
        "\n",
        "class DecodeChTestCase(unittest.TestCase):\n",
        "    \n",
        "    def test_decode_ch(self):\n",
        "        test_dict = {\n",
        "            'NOTiFICaTiON': 'АзотКислородТитанФторЙодКальцийТитанКислородАзот', \n",
        "            'AlCoHoLiC': 'АлюминийКобальтГольмийЛитийУглерод'\n",
        "        }\n",
        "        for key in test_dict.keys():\n",
        "            func_res = decode_ch(str_of_elem=key)\n",
        "            self.assertEqual(func_res, test_dict[key])\n",
        "\n",
        "    def test_can_not_decode(self):\n",
        "        test_str = ['BoRiS', 'LiMoNAD']\n",
        "        for code in test_str:\n",
        "            func_res = decode_ch(str_of_elem=code)\n",
        "            self.assertEqual(func_res, -1)\n",
        "\n",
        "suite = unittest.TestLoader().loadTestsFromTestCase(DecodeChTestCase)\n",
        "unittest.TextTestRunner(verbosity=2).run(suite)"
      ]
    },
    {
      "cell_type": "markdown",
      "metadata": {
        "id": "vsy-ZLYuDnVj"
      },
      "source": [
        "# 9\n",
        "\n",
        "Создайте класс с названием Student.\n",
        "\n",
        "При инициализации объекта подается два аргумента. Первый - имя студента. Второй - фамилия студента.\n",
        "\n",
        "1. Создайте три атрибута объекта данного класса:\n",
        "\n",
        "- *name* имя студента\n",
        "- *surname* фамилия студента\n",
        "- *fullname* имя и фамилия студента через пробел\n",
        "2. Создайте метод для экземпляра класса Student под названием greeting, который при вызове возвращает строку Hello, I am Student\n",
        "Здесь и далее нужно только написать сам класс. \n",
        "3. Добавьте новый атрибут класса под названием grades. При инициализации объекта соответственно добавляется новый аргумент, в котором будет лежать список оценок данного студента, по дефолту равный списку [3,4,5]. Создайте метод под названием mean_grade, который возвращает среднее всех оценок студента (то есть среднее этого атрибута).\n",
        "4. Сделайте метод is_otlichnik, который возвращает строку YES, если средняя оценок студента больше или равна 4.5 и NO в противном случае.\n",
        "Примечание: этот метод должен вызывать метод mean_grade внутри себя.\n",
        "5. На этот раз определим операцию сложения для двух студентов. Пусть такая операция возвращает строку следующего вида: \"Name1 is friends with Name2\", где Name1 и Name2 - имена первого студента и второго (именно атрибут name). То есть, если создать два экземпляра класса Student, то их сумма должна вернуть вышеописанную строку.\n",
        "6. Теперь переопределим поведение нашего класса с функцией print. Пусть при вызове функции print от экземпляра класса Student печатается его атрибут fullname.\n",
        "\n"
      ]
    },
    {
      "cell_type": "code",
      "execution_count": 203,
      "metadata": {
        "id": "chG9dOmytJO2"
      },
      "outputs": [],
      "source": [
        "class Student:\n",
        "\n",
        "  def __init__(self, name, surname, grades=[3, 4, 5]):\n",
        "    self.name = name\n",
        "    self.surname = surname\n",
        "    self.grades = grades\n",
        "    self.fullanme = f\"{self.name} {self.surname}\"\n",
        "\n",
        "  def __add__(self, other):\n",
        "    if isinstance(other, Student):\n",
        "      return f\"{self.name} is friends with {other.name}\"\n",
        "    else:\n",
        "      return NotImplemented\n",
        "  \n",
        "  def __repr__(self):\n",
        "    return self.fullanme\n",
        "\n",
        "  def greeting(self):\n",
        "    return \"Hello, I am Student\"\n",
        "  \n",
        "  def mean_grade(self):\n",
        "    return int(sum(self.grades)/len(self.grades))\n",
        "\n",
        "  def is_otlichnik(self):\n",
        "    return \"YES\" if self.mean_grade() >= 4.5 else \"NO\"\n"
      ]
    },
    {
      "cell_type": "code",
      "execution_count": 204,
      "metadata": {},
      "outputs": [
        {
          "name": "stderr",
          "output_type": "stream",
          "text": [
            "test_add (__main__.StudentTestCase) ... ok\n",
            "test_greeting (__main__.StudentTestCase) ... ok\n",
            "test_is_otlichnik (__main__.StudentTestCase) ... ok\n",
            "test_mean_grade (__main__.StudentTestCase) ... ok\n",
            "test_repr (__main__.StudentTestCase) ... ok\n",
            "\n",
            "----------------------------------------------------------------------\n",
            "Ran 5 tests in 0.009s\n",
            "\n",
            "OK\n"
          ]
        },
        {
          "name": "stdout",
          "output_type": "stream",
          "text": [
            "5\n"
          ]
        },
        {
          "data": {
            "text/plain": [
              "<unittest.runner.TextTestResult run=5 errors=0 failures=0>"
            ]
          },
          "execution_count": 204,
          "metadata": {},
          "output_type": "execute_result"
        }
      ],
      "source": [
        "import unittest\n",
        "\n",
        "\n",
        "class StudentTestCase(unittest.TestCase):\n",
        "\n",
        "    def test_greeting(self):\n",
        "        student_1 = Student(name=\"Петр\", surname=\"Иванов\", grades=[3, 3, 3])\n",
        "        self.assertEqual(student_1.greeting(), \"Hello, I am Student\")\n",
        "\n",
        "    def test_mean_grade(self):\n",
        "        student_1 = Student(name=\"Иван\", surname=\"Петров\", grades=[3, 4, 5])\n",
        "        self.assertEqual(student_1.mean_grade(), 4)\n",
        "\n",
        "    def test_is_otlichnik(self):\n",
        "        student_1 = Student(name=\"Алексей\", surname=\"Сидоров\", grades=[5, 5, 5])\n",
        "        print(student_1.mean_grade())\n",
        "        self.assertEqual(student_1.is_otlichnik(), \"YES\")\n",
        "\n",
        "    def test_add(self):\n",
        "        student_1 = Student(name=\"Петр\", surname=\"Иванов\", grades=[3, 3, 3])\n",
        "        student_2 = Student(name=\"Иван\", surname=\"Петров\", grades=[3, 4, 5])\n",
        "        friends = student_1 + student_2\n",
        "        self.assertEqual(friends, f\"{student_1.name} is friends with {student_2.name}\")\n",
        "\n",
        "    def test_repr(self):\n",
        "        student_1 = Student(name=\"Иван\", surname=\"Петров\", grades=[3, 4, 5])\n",
        "        self.assertEqual(student_1.__repr__(), \"Иван Петров\")\n",
        "\n",
        "suite = unittest.TestLoader().loadTestsFromTestCase(StudentTestCase)\n",
        "unittest.TextTestRunner(verbosity=2).run(suite)\n"
      ]
    },
    {
      "cell_type": "markdown",
      "metadata": {
        "id": "o1JGnKEu5ZYc"
      },
      "source": [
        "# 10\n",
        "\n",
        "Определите  класс исключений ```MyError```,\n",
        " который принимает строковое сообщение ```msg``` в качестве параметра при инициализации и также имеет атрибут ```msg```.\n",
        "\n",
        "Подсказка: Чтобы определить кастомный класс  исключения,нужно создавать класс, унаследованный от ```Exception```.\n",
        "\n"
      ]
    },
    {
      "cell_type": "code",
      "execution_count": 205,
      "metadata": {
        "colab": {
          "base_uri": "https://localhost:8080/",
          "height": 200
        },
        "id": "mKbHbLI3tEFi",
        "outputId": "3681879f-3f76-430d-a244-2324f8e6d548"
      },
      "outputs": [
        {
          "ename": "MyError",
          "evalue": "This is Error",
          "output_type": "error",
          "traceback": [
            "\u001b[1;31m---------------------------------------------------------------------------\u001b[0m",
            "\u001b[1;31mMyError\u001b[0m                                   Traceback (most recent call last)",
            "Cell \u001b[1;32mIn [205], line 5\u001b[0m\n\u001b[0;32m      2\u001b[0m   \u001b[39mdef\u001b[39;00m \u001b[39m__init__\u001b[39m(\u001b[39mself\u001b[39m, msg):\n\u001b[0;32m      3\u001b[0m     \u001b[39mself\u001b[39m\u001b[39m.\u001b[39mmsg \u001b[39m=\u001b[39m msg\n\u001b[1;32m----> 5\u001b[0m \u001b[39mraise\u001b[39;00m MyError(\u001b[39m'\u001b[39m\u001b[39mThis is Error\u001b[39m\u001b[39m'\u001b[39m)\n",
            "\u001b[1;31mMyError\u001b[0m: This is Error"
          ]
        }
      ],
      "source": [
        "class MyError(Exception):\n",
        "  def __init__(self, msg):\n",
        "    self.msg = msg\n",
        "\n",
        "raise MyError('This is Error')\n"
      ]
    }
  ],
  "metadata": {
    "colab": {
      "collapsed_sections": [],
      "provenance": []
    },
    "kernelspec": {
      "display_name": "Python 3.10.5 64-bit",
      "language": "python",
      "name": "python3"
    },
    "language_info": {
      "codemirror_mode": {
        "name": "ipython",
        "version": 3
      },
      "file_extension": ".py",
      "mimetype": "text/x-python",
      "name": "python",
      "nbconvert_exporter": "python",
      "pygments_lexer": "ipython3",
      "version": "3.10.5"
    },
    "vscode": {
      "interpreter": {
        "hash": "369f2c481f4da34e4445cda3fffd2e751bd1c4d706f27375911949ba6bb62e1c"
      }
    }
  },
  "nbformat": 4,
  "nbformat_minor": 0
}
